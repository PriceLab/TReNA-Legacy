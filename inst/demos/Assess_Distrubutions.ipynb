{
 "cells": [
  {
   "cell_type": "markdown",
   "metadata": {},
   "source": [
    "# Make distribution and whatnot"
   ]
  },
  {
   "cell_type": "code",
   "execution_count": 1,
   "metadata": {
    "collapsed": false
   },
   "outputs": [],
   "source": [
    "# Source the desired function and generate the table\n",
    "#source(\"./TReNA/inst/unitTests//test_TReNA.R\")\n",
    "#ls()"
   ]
  },
  {
   "cell_type": "code",
   "execution_count": 2,
   "metadata": {
    "collapsed": true
   },
   "outputs": [],
   "source": [
    "# Failing that, load the data directly\n",
    "# load(\"./TReNA/inst/unitTests/ampAD_Distributions.RData\")"
   ]
  },
  {
   "cell_type": "markdown",
   "metadata": {},
   "source": [
    "## Inspect trends within each solver\n",
    "\n",
    "The same solvers were used with 3 different types of data:\n",
    "\n",
    "1. As is; a matrix with RPKM reads\n",
    "2. log2; the as-is matrix transformed via log2(mtx-0.0001)\n",
    "3. asinh; the as-is matrix transformed via asinh(mtx)\n",
    "\n",
    "We are interested in the question: how does transforming the data affect the correlations between genes? We'll look at the top genes found by the solvers, sorted by their Pearson correlation with the target gene. First, let's look at LASSO:"
   ]
  },
  {
   "cell_type": "code",
   "execution_count": 3,
   "metadata": {
    "collapsed": false
   },
   "outputs": [
    {
     "data": {
      "text/html": [
       "<table>\n",
       "<thead><tr><th></th><th scope=col>gene</th><th scope=col>lasso.as.is</th><th scope=col>lasso.log2</th><th scope=col>lasso.asinh</th><th scope=col>gene.cor</th></tr></thead>\n",
       "<tbody>\n",
       "\t<tr><th scope=row>9</th><td>HLF          </td><td> 0.7928153980</td><td> 0.211671527 </td><td> 0.1218555282</td><td> 0.9232394   </td></tr>\n",
       "\t<tr><th scope=row>4</th><td>STAT4        </td><td> 2.7234147543</td><td> 0.062369774 </td><td> 0.1668978520</td><td> 0.9047599   </td></tr>\n",
       "\t<tr><th scope=row>42</th><td>SATB1        </td><td>           NA</td><td>          NA </td><td>           NA</td><td> 0.8628270   </td></tr>\n",
       "\t<tr><th scope=row>14</th><td>SATB2        </td><td> 0.1170162587</td><td> 0.208034764 </td><td> 0.2352948098</td><td> 0.8423299   </td></tr>\n",
       "\t<tr><th scope=row>23</th><td>ATF2         </td><td>           NA</td><td> 0.122286098 </td><td>           NA</td><td> 0.8278686   </td></tr>\n",
       "\t<tr><th scope=row>5</th><td>FOXP2        </td><td> 2.5415262709</td><td> 0.134731271 </td><td> 0.1065497711</td><td> 0.8196172   </td></tr>\n",
       "\t<tr><th scope=row>11</th><td>TSHZ2        </td><td> 0.6712651520</td><td> 0.135604740 </td><td> 0.0891001802</td><td> 0.7704362   </td></tr>\n",
       "\t<tr><th scope=row>36</th><td>DRGX         </td><td>           NA</td><td> 0.004729671 </td><td>           NA</td><td> 0.7309450   </td></tr>\n",
       "\t<tr><th scope=row>1</th><td>HDX          </td><td>11.1120492315</td><td>          NA </td><td>           NA</td><td> 0.7241906   </td></tr>\n",
       "\t<tr><th scope=row>25</th><td>FOXJ3        </td><td>           NA</td><td>-0.100088093 </td><td>           NA</td><td> 0.7198456   </td></tr>\n",
       "\t<tr><th scope=row>8</th><td>LHX6         </td><td> 1.3312683030</td><td> 0.080145291 </td><td> 0.0981626543</td><td> 0.7146115   </td></tr>\n",
       "\t<tr><th scope=row>12</th><td>ESRRG        </td><td> 0.6011560446</td><td> 0.011165266 </td><td> 0.0006280686</td><td> 0.7090318   </td></tr>\n",
       "\t<tr><th scope=row>29</th><td>TSHZ3        </td><td>           NA</td><td> 0.015816848 </td><td> 0.1096819296</td><td> 0.7056290   </td></tr>\n",
       "\t<tr><th scope=row>40</th><td>TCF7         </td><td>           NA</td><td>          NA </td><td>-0.0161732400</td><td>-0.6624430   </td></tr>\n",
       "\t<tr><th scope=row>13</th><td>NFE2L2       </td><td>-0.3117654737</td><td>-0.115148264 </td><td>           NA</td><td>-0.6383820   </td></tr>\n",
       "\t<tr><th scope=row>18</th><td>CUX2         </td><td> 0.0003296834</td><td> 0.102612677 </td><td> 0.0640205408</td><td> 0.6276504   </td></tr>\n",
       "\t<tr><th scope=row>15</th><td>SOX12        </td><td>-0.1095791636</td><td>          NA </td><td>-0.0851708032</td><td>-0.6240457   </td></tr>\n",
       "\t<tr><th scope=row>10</th><td>HOMEZ        </td><td>-0.7723859025</td><td>-0.067028618 </td><td>           NA</td><td>-0.5832669   </td></tr>\n",
       "\t<tr><th scope=row>17</th><td>ARX          </td><td> 0.0141418779</td><td> 0.038646674 </td><td>           NA</td><td> 0.5774304   </td></tr>\n",
       "\t<tr><th scope=row>41</th><td>STAT5A       </td><td>           NA</td><td>          NA </td><td>           NA</td><td>-0.5746475   </td></tr>\n",
       "</tbody>\n",
       "</table>\n"
      ],
      "text/latex": [
       "\\begin{tabular}{r|lllll}\n",
       "  & gene & lasso.as.is & lasso.log2 & lasso.asinh & gene.cor\\\\\n",
       "\\hline\n",
       "\t9 & HLF           &  0.7928153980 &  0.211671527  &  0.1218555282 &  0.9232394   \\\\\n",
       "\t4 & STAT4         &  2.7234147543 &  0.062369774  &  0.1668978520 &  0.9047599   \\\\\n",
       "\t42 & SATB1         &            NA &           NA  &            NA &  0.8628270   \\\\\n",
       "\t14 & SATB2         &  0.1170162587 &  0.208034764  &  0.2352948098 &  0.8423299   \\\\\n",
       "\t23 & ATF2          &            NA &  0.122286098  &            NA &  0.8278686   \\\\\n",
       "\t5 & FOXP2         &  2.5415262709 &  0.134731271  &  0.1065497711 &  0.8196172   \\\\\n",
       "\t11 & TSHZ2         &  0.6712651520 &  0.135604740  &  0.0891001802 &  0.7704362   \\\\\n",
       "\t36 & DRGX          &            NA &  0.004729671  &            NA &  0.7309450   \\\\\n",
       "\t1 & HDX           & 11.1120492315 &           NA  &            NA &  0.7241906   \\\\\n",
       "\t25 & FOXJ3         &            NA & -0.100088093  &            NA &  0.7198456   \\\\\n",
       "\t8 & LHX6          &  1.3312683030 &  0.080145291  &  0.0981626543 &  0.7146115   \\\\\n",
       "\t12 & ESRRG         &  0.6011560446 &  0.011165266  &  0.0006280686 &  0.7090318   \\\\\n",
       "\t29 & TSHZ3         &            NA &  0.015816848  &  0.1096819296 &  0.7056290   \\\\\n",
       "\t40 & TCF7          &            NA &           NA  & -0.0161732400 & -0.6624430   \\\\\n",
       "\t13 & NFE2L2        & -0.3117654737 & -0.115148264  &            NA & -0.6383820   \\\\\n",
       "\t18 & CUX2          &  0.0003296834 &  0.102612677  &  0.0640205408 &  0.6276504   \\\\\n",
       "\t15 & SOX12         & -0.1095791636 &           NA  & -0.0851708032 & -0.6240457   \\\\\n",
       "\t10 & HOMEZ         & -0.7723859025 & -0.067028618  &            NA & -0.5832669   \\\\\n",
       "\t17 & ARX           &  0.0141418779 &  0.038646674  &            NA &  0.5774304   \\\\\n",
       "\t41 & STAT5A        &            NA &           NA  &            NA & -0.5746475   \\\\\n",
       "\\end{tabular}\n"
      ],
      "text/markdown": [
       "\n",
       "| <!--/--> | gene | lasso.as.is | lasso.log2 | lasso.asinh | gene.cor | \n",
       "|---|---|---|---|---|---|---|---|---|---|---|---|---|---|---|---|---|---|---|---|\n",
       "| 9 | HLF           |  0.7928153980 |  0.211671527  |  0.1218555282 |  0.9232394    | \n",
       "| 4 | STAT4         |  2.7234147543 |  0.062369774  |  0.1668978520 |  0.9047599    | \n",
       "| 42 | SATB1         |            NA |           NA  |            NA |  0.8628270    | \n",
       "| 14 | SATB2         |  0.1170162587 |  0.208034764  |  0.2352948098 |  0.8423299    | \n",
       "| 23 | ATF2          |            NA |  0.122286098  |            NA |  0.8278686    | \n",
       "| 5 | FOXP2         |  2.5415262709 |  0.134731271  |  0.1065497711 |  0.8196172    | \n",
       "| 11 | TSHZ2         |  0.6712651520 |  0.135604740  |  0.0891001802 |  0.7704362    | \n",
       "| 36 | DRGX          |            NA |  0.004729671  |            NA |  0.7309450    | \n",
       "| 1 | HDX           | 11.1120492315 |           NA  |            NA |  0.7241906    | \n",
       "| 25 | FOXJ3         |            NA | -0.100088093  |            NA |  0.7198456    | \n",
       "| 8 | LHX6          |  1.3312683030 |  0.080145291  |  0.0981626543 |  0.7146115    | \n",
       "| 12 | ESRRG         |  0.6011560446 |  0.011165266  |  0.0006280686 |  0.7090318    | \n",
       "| 29 | TSHZ3         |            NA |  0.015816848  |  0.1096819296 |  0.7056290    | \n",
       "| 40 | TCF7          |            NA |           NA  | -0.0161732400 | -0.6624430    | \n",
       "| 13 | NFE2L2        | -0.3117654737 | -0.115148264  |            NA | -0.6383820    | \n",
       "| 18 | CUX2          |  0.0003296834 |  0.102612677  |  0.0640205408 |  0.6276504    | \n",
       "| 15 | SOX12         | -0.1095791636 |           NA  | -0.0851708032 | -0.6240457    | \n",
       "| 10 | HOMEZ         | -0.7723859025 | -0.067028618  |            NA | -0.5832669    | \n",
       "| 17 | ARX           |  0.0141418779 |  0.038646674  |            NA |  0.5774304    | \n",
       "| 41 | STAT5A        |            NA |           NA  |            NA | -0.5746475    | \n",
       "\n",
       "\n"
      ],
      "text/plain": [
       "   gene   lasso.as.is   lasso.log2   lasso.asinh   gene.cor  \n",
       "9  HLF     0.7928153980  0.211671527  0.1218555282  0.9232394\n",
       "4  STAT4   2.7234147543  0.062369774  0.1668978520  0.9047599\n",
       "42 SATB1             NA           NA            NA  0.8628270\n",
       "14 SATB2   0.1170162587  0.208034764  0.2352948098  0.8423299\n",
       "23 ATF2              NA  0.122286098            NA  0.8278686\n",
       "5  FOXP2   2.5415262709  0.134731271  0.1065497711  0.8196172\n",
       "11 TSHZ2   0.6712651520  0.135604740  0.0891001802  0.7704362\n",
       "36 DRGX              NA  0.004729671            NA  0.7309450\n",
       "1  HDX    11.1120492315           NA            NA  0.7241906\n",
       "25 FOXJ3             NA -0.100088093            NA  0.7198456\n",
       "8  LHX6    1.3312683030  0.080145291  0.0981626543  0.7146115\n",
       "12 ESRRG   0.6011560446  0.011165266  0.0006280686  0.7090318\n",
       "29 TSHZ3             NA  0.015816848  0.1096819296  0.7056290\n",
       "40 TCF7              NA           NA -0.0161732400 -0.6624430\n",
       "13 NFE2L2 -0.3117654737 -0.115148264            NA -0.6383820\n",
       "18 CUX2    0.0003296834  0.102612677  0.0640205408  0.6276504\n",
       "15 SOX12  -0.1095791636           NA -0.0851708032 -0.6240457\n",
       "10 HOMEZ  -0.7723859025 -0.067028618            NA -0.5832669\n",
       "17 ARX     0.0141418779  0.038646674            NA  0.5774304\n",
       "41 STAT5A            NA           NA            NA -0.5746475"
      ]
     },
     "metadata": {},
     "output_type": "display_data"
    }
   ],
   "source": [
    "head(tbl.all[,c(1,2,3,4,11)],20)"
   ]
  },
  {
   "cell_type": "markdown",
   "metadata": {},
   "source": [
    "As we would expect from LASSO, many genes are missing coefficients because they've been shrunken out of the model. What we wouldn't necessarily expect is that the remaining coefficients don't necessarily line up well with the Pearson correlation, or with one another. To quantify that, let us compare the LASSO coefficients between transformation types."
   ]
  },
  {
   "cell_type": "code",
   "execution_count": 4,
   "metadata": {
    "collapsed": false
   },
   "outputs": [
    {
     "data": {
      "text/html": [
       "0.423001850815975"
      ],
      "text/latex": [
       "0.423001850815975"
      ],
      "text/markdown": [
       "0.423001850815975"
      ],
      "text/plain": [
       "[1] 0.4230019"
      ]
     },
     "metadata": {},
     "output_type": "display_data"
    },
    {
     "data": {
      "text/html": [
       "0.818716530744307"
      ],
      "text/latex": [
       "0.818716530744307"
      ],
      "text/markdown": [
       "0.818716530744307"
      ],
      "text/plain": [
       "[1] 0.8187165"
      ]
     },
     "metadata": {},
     "output_type": "display_data"
    },
    {
     "data": {
      "text/html": [
       "0.455336430592085"
      ],
      "text/latex": [
       "0.455336430592085"
      ],
      "text/markdown": [
       "0.455336430592085"
      ],
      "text/plain": [
       "[1] 0.4553364"
      ]
     },
     "metadata": {},
     "output_type": "display_data"
    }
   ],
   "source": [
    "# For each pairwise comparison, find correlation for complete cases\n",
    "idx <- complete.cases(tbl.all[,2:3])\n",
    "cor(tbl.all$lasso.as.is[idx],tbl.all$lasso.log2[idx])\n",
    "\n",
    "idx <- complete.cases(tbl.all[,3:4])\n",
    "cor(tbl.all$lasso.log2[idx],tbl.all$lasso.asinh[idx])\n",
    "\n",
    "idx <- complete.cases(tbl.all[,c(2,4)])\n",
    "cor(tbl.all$lasso.as.is[idx],tbl.all$lasso.asinh[idx])\n"
   ]
  },
  {
   "cell_type": "markdown",
   "metadata": {},
   "source": [
    "Correlation between the coefficients found for the \"as-is\" data with either transformed data type aren't particularly high, but the two transformed matrices are in much better agreement. We can similarly look at the results from using Bayes Spike as the solver:"
   ]
  },
  {
   "cell_type": "code",
   "execution_count": 5,
   "metadata": {
    "collapsed": false
   },
   "outputs": [
    {
     "data": {
      "text/html": [
       "<table>\n",
       "<thead><tr><th></th><th scope=col>gene</th><th scope=col>bs.as.is</th><th scope=col>bs.log2</th><th scope=col>bs.asinh</th><th scope=col>gene.cor</th></tr></thead>\n",
       "<tbody>\n",
       "\t<tr><th scope=row>9</th><td>HLF          </td><td> 0.615993902 </td><td> 4.397926e-01</td><td> 8.021380e-02</td><td> 0.9232394   </td></tr>\n",
       "\t<tr><th scope=row>4</th><td>STAT4        </td><td> 1.028224197 </td><td> 2.345882e-01</td><td> 1.600971e-01</td><td> 0.9047599   </td></tr>\n",
       "\t<tr><th scope=row>42</th><td>SATB1        </td><td>-0.508837252 </td><td>-2.398520e-06</td><td> 4.719466e-06</td><td> 0.8628270   </td></tr>\n",
       "\t<tr><th scope=row>14</th><td>SATB2        </td><td> 1.116708683 </td><td> 1.717411e-04</td><td> 2.818277e-02</td><td> 0.8423299   </td></tr>\n",
       "\t<tr><th scope=row>23</th><td>ATF2         </td><td> 0.966270108 </td><td> 6.846773e-05</td><td> 2.383583e-02</td><td> 0.8278686   </td></tr>\n",
       "\t<tr><th scope=row>5</th><td>FOXP2        </td><td> 3.969474560 </td><td> 9.103155e-05</td><td> 2.170502e-01</td><td> 0.8196172   </td></tr>\n",
       "\t<tr><th scope=row>11</th><td>TSHZ2        </td><td> 1.034221304 </td><td> 2.462877e-01</td><td> 9.666456e-02</td><td> 0.7704362   </td></tr>\n",
       "\t<tr><th scope=row>36</th><td>DRGX         </td><td>-0.027522731 </td><td> 3.288638e-05</td><td>-3.878668e-06</td><td> 0.7309450   </td></tr>\n",
       "\t<tr><th scope=row>1</th><td>HDX          </td><td> 8.397799560 </td><td> 1.693965e-05</td><td> 8.489143e-05</td><td> 0.7241906   </td></tr>\n",
       "\t<tr><th scope=row>25</th><td>FOXJ3        </td><td>-0.017184619 </td><td> 3.524913e-05</td><td> 2.630947e-01</td><td> 0.7198456   </td></tr>\n",
       "\t<tr><th scope=row>8</th><td>LHX6         </td><td> 1.948447193 </td><td> 8.222151e-06</td><td> 6.144968e-04</td><td> 0.7146115   </td></tr>\n",
       "\t<tr><th scope=row>12</th><td>ESRRG        </td><td> 0.002655982 </td><td> 1.386735e-05</td><td> 1.869506e-01</td><td> 0.7090318   </td></tr>\n",
       "\t<tr><th scope=row>29</th><td>TSHZ3        </td><td>-0.007920152 </td><td> 2.356211e-04</td><td> 2.852963e-02</td><td> 0.7056290   </td></tr>\n",
       "\t<tr><th scope=row>40</th><td>TCF7         </td><td> 0.075399916 </td><td>-3.235511e-05</td><td>-2.743178e-04</td><td>-0.6624430   </td></tr>\n",
       "\t<tr><th scope=row>13</th><td>NFE2L2       </td><td>-0.505806479 </td><td>-1.118489e-04</td><td>-5.202454e-02</td><td>-0.6383820   </td></tr>\n",
       "\t<tr><th scope=row>18</th><td>CUX2         </td><td> 0.696664695 </td><td> 9.572985e-05</td><td> 2.182949e-01</td><td> 0.6276504   </td></tr>\n",
       "\t<tr><th scope=row>15</th><td>SOX12        </td><td> 0.012721950 </td><td>-5.421697e-05</td><td>-5.439551e-05</td><td>-0.6240457   </td></tr>\n",
       "\t<tr><th scope=row>10</th><td>HOMEZ        </td><td>-3.531310300 </td><td>-1.159559e-04</td><td>-6.393264e-04</td><td>-0.5832669   </td></tr>\n",
       "\t<tr><th scope=row>17</th><td>ARX          </td><td> 0.083277279 </td><td> 1.375246e-01</td><td> 6.460960e-05</td><td> 0.5774304   </td></tr>\n",
       "\t<tr><th scope=row>41</th><td>STAT5A       </td><td>-5.535262330 </td><td>-1.377761e-05</td><td> 5.683070e-05</td><td>-0.5746475   </td></tr>\n",
       "</tbody>\n",
       "</table>\n"
      ],
      "text/latex": [
       "\\begin{tabular}{r|lllll}\n",
       "  & gene & bs.as.is & bs.log2 & bs.asinh & gene.cor\\\\\n",
       "\\hline\n",
       "\t9 & HLF           &  0.615993902  &  4.397926e-01 &  8.021380e-02 &  0.9232394   \\\\\n",
       "\t4 & STAT4         &  1.028224197  &  2.345882e-01 &  1.600971e-01 &  0.9047599   \\\\\n",
       "\t42 & SATB1         & -0.508837252  & -2.398520e-06 &  4.719466e-06 &  0.8628270   \\\\\n",
       "\t14 & SATB2         &  1.116708683  &  1.717411e-04 &  2.818277e-02 &  0.8423299   \\\\\n",
       "\t23 & ATF2          &  0.966270108  &  6.846773e-05 &  2.383583e-02 &  0.8278686   \\\\\n",
       "\t5 & FOXP2         &  3.969474560  &  9.103155e-05 &  2.170502e-01 &  0.8196172   \\\\\n",
       "\t11 & TSHZ2         &  1.034221304  &  2.462877e-01 &  9.666456e-02 &  0.7704362   \\\\\n",
       "\t36 & DRGX          & -0.027522731  &  3.288638e-05 & -3.878668e-06 &  0.7309450   \\\\\n",
       "\t1 & HDX           &  8.397799560  &  1.693965e-05 &  8.489143e-05 &  0.7241906   \\\\\n",
       "\t25 & FOXJ3         & -0.017184619  &  3.524913e-05 &  2.630947e-01 &  0.7198456   \\\\\n",
       "\t8 & LHX6          &  1.948447193  &  8.222151e-06 &  6.144968e-04 &  0.7146115   \\\\\n",
       "\t12 & ESRRG         &  0.002655982  &  1.386735e-05 &  1.869506e-01 &  0.7090318   \\\\\n",
       "\t29 & TSHZ3         & -0.007920152  &  2.356211e-04 &  2.852963e-02 &  0.7056290   \\\\\n",
       "\t40 & TCF7          &  0.075399916  & -3.235511e-05 & -2.743178e-04 & -0.6624430   \\\\\n",
       "\t13 & NFE2L2        & -0.505806479  & -1.118489e-04 & -5.202454e-02 & -0.6383820   \\\\\n",
       "\t18 & CUX2          &  0.696664695  &  9.572985e-05 &  2.182949e-01 &  0.6276504   \\\\\n",
       "\t15 & SOX12         &  0.012721950  & -5.421697e-05 & -5.439551e-05 & -0.6240457   \\\\\n",
       "\t10 & HOMEZ         & -3.531310300  & -1.159559e-04 & -6.393264e-04 & -0.5832669   \\\\\n",
       "\t17 & ARX           &  0.083277279  &  1.375246e-01 &  6.460960e-05 &  0.5774304   \\\\\n",
       "\t41 & STAT5A        & -5.535262330  & -1.377761e-05 &  5.683070e-05 & -0.5746475   \\\\\n",
       "\\end{tabular}\n"
      ],
      "text/markdown": [
       "\n",
       "| <!--/--> | gene | bs.as.is | bs.log2 | bs.asinh | gene.cor | \n",
       "|---|---|---|---|---|---|---|---|---|---|---|---|---|---|---|---|---|---|---|---|\n",
       "| 9 | HLF           |  0.615993902  |  4.397926e-01 |  8.021380e-02 |  0.9232394    | \n",
       "| 4 | STAT4         |  1.028224197  |  2.345882e-01 |  1.600971e-01 |  0.9047599    | \n",
       "| 42 | SATB1         | -0.508837252  | -2.398520e-06 |  4.719466e-06 |  0.8628270    | \n",
       "| 14 | SATB2         |  1.116708683  |  1.717411e-04 |  2.818277e-02 |  0.8423299    | \n",
       "| 23 | ATF2          |  0.966270108  |  6.846773e-05 |  2.383583e-02 |  0.8278686    | \n",
       "| 5 | FOXP2         |  3.969474560  |  9.103155e-05 |  2.170502e-01 |  0.8196172    | \n",
       "| 11 | TSHZ2         |  1.034221304  |  2.462877e-01 |  9.666456e-02 |  0.7704362    | \n",
       "| 36 | DRGX          | -0.027522731  |  3.288638e-05 | -3.878668e-06 |  0.7309450    | \n",
       "| 1 | HDX           |  8.397799560  |  1.693965e-05 |  8.489143e-05 |  0.7241906    | \n",
       "| 25 | FOXJ3         | -0.017184619  |  3.524913e-05 |  2.630947e-01 |  0.7198456    | \n",
       "| 8 | LHX6          |  1.948447193  |  8.222151e-06 |  6.144968e-04 |  0.7146115    | \n",
       "| 12 | ESRRG         |  0.002655982  |  1.386735e-05 |  1.869506e-01 |  0.7090318    | \n",
       "| 29 | TSHZ3         | -0.007920152  |  2.356211e-04 |  2.852963e-02 |  0.7056290    | \n",
       "| 40 | TCF7          |  0.075399916  | -3.235511e-05 | -2.743178e-04 | -0.6624430    | \n",
       "| 13 | NFE2L2        | -0.505806479  | -1.118489e-04 | -5.202454e-02 | -0.6383820    | \n",
       "| 18 | CUX2          |  0.696664695  |  9.572985e-05 |  2.182949e-01 |  0.6276504    | \n",
       "| 15 | SOX12         |  0.012721950  | -5.421697e-05 | -5.439551e-05 | -0.6240457    | \n",
       "| 10 | HOMEZ         | -3.531310300  | -1.159559e-04 | -6.393264e-04 | -0.5832669    | \n",
       "| 17 | ARX           |  0.083277279  |  1.375246e-01 |  6.460960e-05 |  0.5774304    | \n",
       "| 41 | STAT5A        | -5.535262330  | -1.377761e-05 |  5.683070e-05 | -0.5746475    | \n",
       "\n",
       "\n"
      ],
      "text/plain": [
       "   gene   bs.as.is     bs.log2       bs.asinh      gene.cor  \n",
       "9  HLF     0.615993902  4.397926e-01  8.021380e-02  0.9232394\n",
       "4  STAT4   1.028224197  2.345882e-01  1.600971e-01  0.9047599\n",
       "42 SATB1  -0.508837252 -2.398520e-06  4.719466e-06  0.8628270\n",
       "14 SATB2   1.116708683  1.717411e-04  2.818277e-02  0.8423299\n",
       "23 ATF2    0.966270108  6.846773e-05  2.383583e-02  0.8278686\n",
       "5  FOXP2   3.969474560  9.103155e-05  2.170502e-01  0.8196172\n",
       "11 TSHZ2   1.034221304  2.462877e-01  9.666456e-02  0.7704362\n",
       "36 DRGX   -0.027522731  3.288638e-05 -3.878668e-06  0.7309450\n",
       "1  HDX     8.397799560  1.693965e-05  8.489143e-05  0.7241906\n",
       "25 FOXJ3  -0.017184619  3.524913e-05  2.630947e-01  0.7198456\n",
       "8  LHX6    1.948447193  8.222151e-06  6.144968e-04  0.7146115\n",
       "12 ESRRG   0.002655982  1.386735e-05  1.869506e-01  0.7090318\n",
       "29 TSHZ3  -0.007920152  2.356211e-04  2.852963e-02  0.7056290\n",
       "40 TCF7    0.075399916 -3.235511e-05 -2.743178e-04 -0.6624430\n",
       "13 NFE2L2 -0.505806479 -1.118489e-04 -5.202454e-02 -0.6383820\n",
       "18 CUX2    0.696664695  9.572985e-05  2.182949e-01  0.6276504\n",
       "15 SOX12   0.012721950 -5.421697e-05 -5.439551e-05 -0.6240457\n",
       "10 HOMEZ  -3.531310300 -1.159559e-04 -6.393264e-04 -0.5832669\n",
       "17 ARX     0.083277279  1.375246e-01  6.460960e-05  0.5774304\n",
       "41 STAT5A -5.535262330 -1.377761e-05  5.683070e-05 -0.5746475"
      ]
     },
     "metadata": {},
     "output_type": "display_data"
    }
   ],
   "source": [
    "head(tbl.all[,c(1,5:7,11)],20)"
   ]
  },
  {
   "cell_type": "markdown",
   "metadata": {},
   "source": [
    "From visual inspection, these coefficients are a bit all over the map in terms of magnitude and sign. Additionally, most of the coefficients for the log-transformed, and many from the asinh-transformed, are quite small. Let's look at these correlations:"
   ]
  },
  {
   "cell_type": "code",
   "execution_count": 6,
   "metadata": {
    "collapsed": false
   },
   "outputs": [
    {
     "data": {
      "text/html": [
       "0.0493111783355212"
      ],
      "text/latex": [
       "0.0493111783355212"
      ],
      "text/markdown": [
       "0.0493111783355212"
      ],
      "text/plain": [
       "[1] 0.04931118"
      ]
     },
     "metadata": {},
     "output_type": "display_data"
    },
    {
     "data": {
      "text/html": [
       "0.114076211119304"
      ],
      "text/latex": [
       "0.114076211119304"
      ],
      "text/markdown": [
       "0.114076211119304"
      ],
      "text/plain": [
       "[1] 0.1140762"
      ]
     },
     "metadata": {},
     "output_type": "display_data"
    },
    {
     "data": {
      "text/html": [
       "0.196029736472117"
      ],
      "text/latex": [
       "0.196029736472117"
      ],
      "text/markdown": [
       "0.196029736472117"
      ],
      "text/plain": [
       "[1] 0.1960297"
      ]
     },
     "metadata": {},
     "output_type": "display_data"
    }
   ],
   "source": [
    "cor(tbl.all$bs.as.is,tbl.all$bs.log2)\n",
    "cor(tbl.all$bs.as.is,tbl.all$bs.asinh)\n",
    "cor(tbl.all$bs.log2,tbl.all$bs.asinh)"
   ]
  },
  {
   "cell_type": "markdown",
   "metadata": {},
   "source": [
    "There appears to be very little agreement between any of the Bayes Spike coefficients, particularly between the as-is and log-transformed matrices.\n",
    "\n",
    "Let's finish our survey of the solvers by looking at the Random Forest scores:"
   ]
  },
  {
   "cell_type": "code",
   "execution_count": 7,
   "metadata": {
    "collapsed": false
   },
   "outputs": [
    {
     "data": {
      "text/html": [
       "<table>\n",
       "<thead><tr><th></th><th scope=col>gene</th><th scope=col>rf.as.is</th><th scope=col>rf.log2</th><th scope=col>rf.asinh</th><th scope=col>gene.cor</th></tr></thead>\n",
       "<tbody>\n",
       "\t<tr><th scope=row>9</th><td>HLF        </td><td>1279410.716</td><td>59.3208829 </td><td>25.0821372 </td><td> 0.9232394 </td></tr>\n",
       "\t<tr><th scope=row>4</th><td>STAT4      </td><td> 657266.220</td><td>48.3055177 </td><td>21.2427661 </td><td> 0.9047599 </td></tr>\n",
       "\t<tr><th scope=row>42</th><td>SATB1      </td><td> 536031.869</td><td>21.9056028 </td><td>11.5280330 </td><td> 0.8628270 </td></tr>\n",
       "\t<tr><th scope=row>14</th><td>SATB2      </td><td> 414212.621</td><td>24.0466254 </td><td>13.2971485 </td><td> 0.8423299 </td></tr>\n",
       "\t<tr><th scope=row>23</th><td>ATF2       </td><td> 141242.778</td><td> 3.1732559 </td><td> 3.0178257 </td><td> 0.8278686 </td></tr>\n",
       "\t<tr><th scope=row>5</th><td>FOXP2      </td><td> 131526.319</td><td> 6.1324362 </td><td> 2.7998044 </td><td> 0.8196172 </td></tr>\n",
       "\t<tr><th scope=row>11</th><td>TSHZ2      </td><td>  73002.899</td><td> 5.6631952 </td><td> 2.8863433 </td><td> 0.7704362 </td></tr>\n",
       "\t<tr><th scope=row>36</th><td>DRGX       </td><td>  55309.044</td><td> 7.9213840 </td><td> 3.6591379 </td><td> 0.7309450 </td></tr>\n",
       "\t<tr><th scope=row>1</th><td>HDX        </td><td>  57903.645</td><td> 1.2843353 </td><td> 0.8112355 </td><td> 0.7241906 </td></tr>\n",
       "\t<tr><th scope=row>25</th><td>FOXJ3      </td><td>  28277.163</td><td> 0.5174434 </td><td> 0.2449619 </td><td> 0.7198456 </td></tr>\n",
       "\t<tr><th scope=row>8</th><td>LHX6       </td><td>  32410.302</td><td> 2.2883895 </td><td> 1.5433614 </td><td> 0.7146115 </td></tr>\n",
       "\t<tr><th scope=row>12</th><td>ESRRG      </td><td>  61068.939</td><td> 4.4440203 </td><td> 2.5512376 </td><td> 0.7090318 </td></tr>\n",
       "\t<tr><th scope=row>29</th><td>TSHZ3      </td><td>  21620.235</td><td> 7.4947143 </td><td> 3.5288726 </td><td> 0.7056290 </td></tr>\n",
       "\t<tr><th scope=row>40</th><td>TCF7       </td><td>  67294.975</td><td> 0.9347182 </td><td> 0.5126479 </td><td>-0.6624430 </td></tr>\n",
       "\t<tr><th scope=row>13</th><td>NFE2L2     </td><td>  17027.772</td><td> 0.6175119 </td><td> 0.3727604 </td><td>-0.6383820 </td></tr>\n",
       "\t<tr><th scope=row>18</th><td>CUX2       </td><td>  11901.553</td><td> 4.2019413 </td><td> 2.2390343 </td><td> 0.6276504 </td></tr>\n",
       "\t<tr><th scope=row>15</th><td>SOX12      </td><td>  75668.985</td><td> 1.8032634 </td><td> 0.7589271 </td><td>-0.6240457 </td></tr>\n",
       "\t<tr><th scope=row>10</th><td>HOMEZ      </td><td>   2370.472</td><td> 0.1320689 </td><td> 0.1144582 </td><td>-0.5832669 </td></tr>\n",
       "\t<tr><th scope=row>17</th><td>ARX        </td><td>   6325.545</td><td> 0.4624562 </td><td> 0.2220843 </td><td> 0.5774304 </td></tr>\n",
       "\t<tr><th scope=row>41</th><td>STAT5A     </td><td>   2692.361</td><td> 0.4172006 </td><td> 0.1902756 </td><td>-0.5746475 </td></tr>\n",
       "</tbody>\n",
       "</table>\n"
      ],
      "text/latex": [
       "\\begin{tabular}{r|lllll}\n",
       "  & gene & rf.as.is & rf.log2 & rf.asinh & gene.cor\\\\\n",
       "\\hline\n",
       "\t9 & HLF         & 1279410.716 & 59.3208829  & 25.0821372  &  0.9232394 \\\\\n",
       "\t4 & STAT4       &  657266.220 & 48.3055177  & 21.2427661  &  0.9047599 \\\\\n",
       "\t42 & SATB1       &  536031.869 & 21.9056028  & 11.5280330  &  0.8628270 \\\\\n",
       "\t14 & SATB2       &  414212.621 & 24.0466254  & 13.2971485  &  0.8423299 \\\\\n",
       "\t23 & ATF2        &  141242.778 &  3.1732559  &  3.0178257  &  0.8278686 \\\\\n",
       "\t5 & FOXP2       &  131526.319 &  6.1324362  &  2.7998044  &  0.8196172 \\\\\n",
       "\t11 & TSHZ2       &   73002.899 &  5.6631952  &  2.8863433  &  0.7704362 \\\\\n",
       "\t36 & DRGX        &   55309.044 &  7.9213840  &  3.6591379  &  0.7309450 \\\\\n",
       "\t1 & HDX         &   57903.645 &  1.2843353  &  0.8112355  &  0.7241906 \\\\\n",
       "\t25 & FOXJ3       &   28277.163 &  0.5174434  &  0.2449619  &  0.7198456 \\\\\n",
       "\t8 & LHX6        &   32410.302 &  2.2883895  &  1.5433614  &  0.7146115 \\\\\n",
       "\t12 & ESRRG       &   61068.939 &  4.4440203  &  2.5512376  &  0.7090318 \\\\\n",
       "\t29 & TSHZ3       &   21620.235 &  7.4947143  &  3.5288726  &  0.7056290 \\\\\n",
       "\t40 & TCF7        &   67294.975 &  0.9347182  &  0.5126479  & -0.6624430 \\\\\n",
       "\t13 & NFE2L2      &   17027.772 &  0.6175119  &  0.3727604  & -0.6383820 \\\\\n",
       "\t18 & CUX2        &   11901.553 &  4.2019413  &  2.2390343  &  0.6276504 \\\\\n",
       "\t15 & SOX12       &   75668.985 &  1.8032634  &  0.7589271  & -0.6240457 \\\\\n",
       "\t10 & HOMEZ       &    2370.472 &  0.1320689  &  0.1144582  & -0.5832669 \\\\\n",
       "\t17 & ARX         &    6325.545 &  0.4624562  &  0.2220843  &  0.5774304 \\\\\n",
       "\t41 & STAT5A      &    2692.361 &  0.4172006  &  0.1902756  & -0.5746475 \\\\\n",
       "\\end{tabular}\n"
      ],
      "text/markdown": [
       "\n",
       "| <!--/--> | gene | rf.as.is | rf.log2 | rf.asinh | gene.cor | \n",
       "|---|---|---|---|---|---|---|---|---|---|---|---|---|---|---|---|---|---|---|---|\n",
       "| 9 | HLF         | 1279410.716 | 59.3208829  | 25.0821372  |  0.9232394  | \n",
       "| 4 | STAT4       |  657266.220 | 48.3055177  | 21.2427661  |  0.9047599  | \n",
       "| 42 | SATB1       |  536031.869 | 21.9056028  | 11.5280330  |  0.8628270  | \n",
       "| 14 | SATB2       |  414212.621 | 24.0466254  | 13.2971485  |  0.8423299  | \n",
       "| 23 | ATF2        |  141242.778 |  3.1732559  |  3.0178257  |  0.8278686  | \n",
       "| 5 | FOXP2       |  131526.319 |  6.1324362  |  2.7998044  |  0.8196172  | \n",
       "| 11 | TSHZ2       |   73002.899 |  5.6631952  |  2.8863433  |  0.7704362  | \n",
       "| 36 | DRGX        |   55309.044 |  7.9213840  |  3.6591379  |  0.7309450  | \n",
       "| 1 | HDX         |   57903.645 |  1.2843353  |  0.8112355  |  0.7241906  | \n",
       "| 25 | FOXJ3       |   28277.163 |  0.5174434  |  0.2449619  |  0.7198456  | \n",
       "| 8 | LHX6        |   32410.302 |  2.2883895  |  1.5433614  |  0.7146115  | \n",
       "| 12 | ESRRG       |   61068.939 |  4.4440203  |  2.5512376  |  0.7090318  | \n",
       "| 29 | TSHZ3       |   21620.235 |  7.4947143  |  3.5288726  |  0.7056290  | \n",
       "| 40 | TCF7        |   67294.975 |  0.9347182  |  0.5126479  | -0.6624430  | \n",
       "| 13 | NFE2L2      |   17027.772 |  0.6175119  |  0.3727604  | -0.6383820  | \n",
       "| 18 | CUX2        |   11901.553 |  4.2019413  |  2.2390343  |  0.6276504  | \n",
       "| 15 | SOX12       |   75668.985 |  1.8032634  |  0.7589271  | -0.6240457  | \n",
       "| 10 | HOMEZ       |    2370.472 |  0.1320689  |  0.1144582  | -0.5832669  | \n",
       "| 17 | ARX         |    6325.545 |  0.4624562  |  0.2220843  |  0.5774304  | \n",
       "| 41 | STAT5A      |    2692.361 |  0.4172006  |  0.1902756  | -0.5746475  | \n",
       "\n",
       "\n"
      ],
      "text/plain": [
       "   gene   rf.as.is    rf.log2    rf.asinh   gene.cor  \n",
       "9  HLF    1279410.716 59.3208829 25.0821372  0.9232394\n",
       "4  STAT4   657266.220 48.3055177 21.2427661  0.9047599\n",
       "42 SATB1   536031.869 21.9056028 11.5280330  0.8628270\n",
       "14 SATB2   414212.621 24.0466254 13.2971485  0.8423299\n",
       "23 ATF2    141242.778  3.1732559  3.0178257  0.8278686\n",
       "5  FOXP2   131526.319  6.1324362  2.7998044  0.8196172\n",
       "11 TSHZ2    73002.899  5.6631952  2.8863433  0.7704362\n",
       "36 DRGX     55309.044  7.9213840  3.6591379  0.7309450\n",
       "1  HDX      57903.645  1.2843353  0.8112355  0.7241906\n",
       "25 FOXJ3    28277.163  0.5174434  0.2449619  0.7198456\n",
       "8  LHX6     32410.302  2.2883895  1.5433614  0.7146115\n",
       "12 ESRRG    61068.939  4.4440203  2.5512376  0.7090318\n",
       "29 TSHZ3    21620.235  7.4947143  3.5288726  0.7056290\n",
       "40 TCF7     67294.975  0.9347182  0.5126479 -0.6624430\n",
       "13 NFE2L2   17027.772  0.6175119  0.3727604 -0.6383820\n",
       "18 CUX2     11901.553  4.2019413  2.2390343  0.6276504\n",
       "15 SOX12    75668.985  1.8032634  0.7589271 -0.6240457\n",
       "10 HOMEZ     2370.472  0.1320689  0.1144582 -0.5832669\n",
       "17 ARX       6325.545  0.4624562  0.2220843  0.5774304\n",
       "41 STAT5A    2692.361  0.4172006  0.1902756 -0.5746475"
      ]
     },
     "metadata": {},
     "output_type": "display_data"
    }
   ],
   "source": [
    "head(tbl.all[,c(1,8:11)],20)"
   ]
  },
  {
   "cell_type": "markdown",
   "metadata": {},
   "source": [
    "This looks a lot more in line with what we would expect; the Random Forest scores look to decrease in size almost monotonically along with the Pearson correlations. Furthermore, they look to do so regardless of whether or not the data have been transformed, although the coefficient sizes vary quite a bit. Let's follow up with the correlations between different transformations."
   ]
  },
  {
   "cell_type": "code",
   "execution_count": 8,
   "metadata": {
    "collapsed": false
   },
   "outputs": [
    {
     "data": {
      "text/html": [
       "0.965645660560378"
      ],
      "text/latex": [
       "0.965645660560378"
      ],
      "text/markdown": [
       "0.965645660560378"
      ],
      "text/plain": [
       "[1] 0.9656457"
      ]
     },
     "metadata": {},
     "output_type": "display_data"
    },
    {
     "data": {
      "text/html": [
       "0.960647081206396"
      ],
      "text/latex": [
       "0.960647081206396"
      ],
      "text/markdown": [
       "0.960647081206396"
      ],
      "text/plain": [
       "[1] 0.9606471"
      ]
     },
     "metadata": {},
     "output_type": "display_data"
    },
    {
     "data": {
      "text/html": [
       "0.994199928253244"
      ],
      "text/latex": [
       "0.994199928253244"
      ],
      "text/markdown": [
       "0.994199928253244"
      ],
      "text/plain": [
       "[1] 0.9941999"
      ]
     },
     "metadata": {},
     "output_type": "display_data"
    }
   ],
   "source": [
    "cor(tbl.all$rf.as.is,tbl.all$rf.log2)\n",
    "cor(tbl.all$rf.as.is,tbl.all$rf.asinh)\n",
    "cor(tbl.all$rf.log2,tbl.all$rf.asinh)"
   ]
  },
  {
   "cell_type": "markdown",
   "metadata": {},
   "source": [
    "The correlation coefficients between matrix types suggests very high agreement in all cases, and nearly identical trends when using log-transformed and asinh-transformed data. \n"
   ]
  },
  {
   "cell_type": "markdown",
   "metadata": {},
   "source": [
    "\n",
    "## Inspect Trends Between Solvers\n",
    "\n",
    "From looking at the within-solvers comparisons, it seems evident that we can probably expect some major differences between solver types. Let's look first at the as-is data across solvers"
   ]
  },
  {
   "cell_type": "code",
   "execution_count": 9,
   "metadata": {
    "collapsed": false
   },
   "outputs": [
    {
     "data": {
      "text/html": [
       "<table>\n",
       "<thead><tr><th></th><th scope=col>gene</th><th scope=col>lasso.as.is</th><th scope=col>bs.as.is</th><th scope=col>rf.as.is</th><th scope=col>gene.cor</th></tr></thead>\n",
       "<tbody>\n",
       "\t<tr><th scope=row>9</th><td>HLF          </td><td> 0.7928153980</td><td> 0.615993902 </td><td>1279410.716  </td><td> 0.9232394   </td></tr>\n",
       "\t<tr><th scope=row>4</th><td>STAT4        </td><td> 2.7234147543</td><td> 1.028224197 </td><td> 657266.220  </td><td> 0.9047599   </td></tr>\n",
       "\t<tr><th scope=row>42</th><td>SATB1        </td><td>           NA</td><td>-0.508837252 </td><td> 536031.869  </td><td> 0.8628270   </td></tr>\n",
       "\t<tr><th scope=row>14</th><td>SATB2        </td><td> 0.1170162587</td><td> 1.116708683 </td><td> 414212.621  </td><td> 0.8423299   </td></tr>\n",
       "\t<tr><th scope=row>23</th><td>ATF2         </td><td>           NA</td><td> 0.966270108 </td><td> 141242.778  </td><td> 0.8278686   </td></tr>\n",
       "\t<tr><th scope=row>5</th><td>FOXP2        </td><td> 2.5415262709</td><td> 3.969474560 </td><td> 131526.319  </td><td> 0.8196172   </td></tr>\n",
       "\t<tr><th scope=row>11</th><td>TSHZ2        </td><td> 0.6712651520</td><td> 1.034221304 </td><td>  73002.899  </td><td> 0.7704362   </td></tr>\n",
       "\t<tr><th scope=row>36</th><td>DRGX         </td><td>           NA</td><td>-0.027522731 </td><td>  55309.044  </td><td> 0.7309450   </td></tr>\n",
       "\t<tr><th scope=row>1</th><td>HDX          </td><td>11.1120492315</td><td> 8.397799560 </td><td>  57903.645  </td><td> 0.7241906   </td></tr>\n",
       "\t<tr><th scope=row>25</th><td>FOXJ3        </td><td>           NA</td><td>-0.017184619 </td><td>  28277.163  </td><td> 0.7198456   </td></tr>\n",
       "\t<tr><th scope=row>8</th><td>LHX6         </td><td> 1.3312683030</td><td> 1.948447193 </td><td>  32410.302  </td><td> 0.7146115   </td></tr>\n",
       "\t<tr><th scope=row>12</th><td>ESRRG        </td><td> 0.6011560446</td><td> 0.002655982 </td><td>  61068.939  </td><td> 0.7090318   </td></tr>\n",
       "\t<tr><th scope=row>29</th><td>TSHZ3        </td><td>           NA</td><td>-0.007920152 </td><td>  21620.235  </td><td> 0.7056290   </td></tr>\n",
       "\t<tr><th scope=row>40</th><td>TCF7         </td><td>           NA</td><td> 0.075399916 </td><td>  67294.975  </td><td>-0.6624430   </td></tr>\n",
       "\t<tr><th scope=row>13</th><td>NFE2L2       </td><td>-0.3117654737</td><td>-0.505806479 </td><td>  17027.772  </td><td>-0.6383820   </td></tr>\n",
       "\t<tr><th scope=row>18</th><td>CUX2         </td><td> 0.0003296834</td><td> 0.696664695 </td><td>  11901.553  </td><td> 0.6276504   </td></tr>\n",
       "\t<tr><th scope=row>15</th><td>SOX12        </td><td>-0.1095791636</td><td> 0.012721950 </td><td>  75668.985  </td><td>-0.6240457   </td></tr>\n",
       "\t<tr><th scope=row>10</th><td>HOMEZ        </td><td>-0.7723859025</td><td>-3.531310300 </td><td>   2370.472  </td><td>-0.5832669   </td></tr>\n",
       "\t<tr><th scope=row>17</th><td>ARX          </td><td> 0.0141418779</td><td> 0.083277279 </td><td>   6325.545  </td><td> 0.5774304   </td></tr>\n",
       "\t<tr><th scope=row>41</th><td>STAT5A       </td><td>           NA</td><td>-5.535262330 </td><td>   2692.361  </td><td>-0.5746475   </td></tr>\n",
       "</tbody>\n",
       "</table>\n"
      ],
      "text/latex": [
       "\\begin{tabular}{r|lllll}\n",
       "  & gene & lasso.as.is & bs.as.is & rf.as.is & gene.cor\\\\\n",
       "\\hline\n",
       "\t9 & HLF           &  0.7928153980 &  0.615993902  & 1279410.716   &  0.9232394   \\\\\n",
       "\t4 & STAT4         &  2.7234147543 &  1.028224197  &  657266.220   &  0.9047599   \\\\\n",
       "\t42 & SATB1         &            NA & -0.508837252  &  536031.869   &  0.8628270   \\\\\n",
       "\t14 & SATB2         &  0.1170162587 &  1.116708683  &  414212.621   &  0.8423299   \\\\\n",
       "\t23 & ATF2          &            NA &  0.966270108  &  141242.778   &  0.8278686   \\\\\n",
       "\t5 & FOXP2         &  2.5415262709 &  3.969474560  &  131526.319   &  0.8196172   \\\\\n",
       "\t11 & TSHZ2         &  0.6712651520 &  1.034221304  &   73002.899   &  0.7704362   \\\\\n",
       "\t36 & DRGX          &            NA & -0.027522731  &   55309.044   &  0.7309450   \\\\\n",
       "\t1 & HDX           & 11.1120492315 &  8.397799560  &   57903.645   &  0.7241906   \\\\\n",
       "\t25 & FOXJ3         &            NA & -0.017184619  &   28277.163   &  0.7198456   \\\\\n",
       "\t8 & LHX6          &  1.3312683030 &  1.948447193  &   32410.302   &  0.7146115   \\\\\n",
       "\t12 & ESRRG         &  0.6011560446 &  0.002655982  &   61068.939   &  0.7090318   \\\\\n",
       "\t29 & TSHZ3         &            NA & -0.007920152  &   21620.235   &  0.7056290   \\\\\n",
       "\t40 & TCF7          &            NA &  0.075399916  &   67294.975   & -0.6624430   \\\\\n",
       "\t13 & NFE2L2        & -0.3117654737 & -0.505806479  &   17027.772   & -0.6383820   \\\\\n",
       "\t18 & CUX2          &  0.0003296834 &  0.696664695  &   11901.553   &  0.6276504   \\\\\n",
       "\t15 & SOX12         & -0.1095791636 &  0.012721950  &   75668.985   & -0.6240457   \\\\\n",
       "\t10 & HOMEZ         & -0.7723859025 & -3.531310300  &    2370.472   & -0.5832669   \\\\\n",
       "\t17 & ARX           &  0.0141418779 &  0.083277279  &    6325.545   &  0.5774304   \\\\\n",
       "\t41 & STAT5A        &            NA & -5.535262330  &    2692.361   & -0.5746475   \\\\\n",
       "\\end{tabular}\n"
      ],
      "text/markdown": [
       "\n",
       "| <!--/--> | gene | lasso.as.is | bs.as.is | rf.as.is | gene.cor | \n",
       "|---|---|---|---|---|---|---|---|---|---|---|---|---|---|---|---|---|---|---|---|\n",
       "| 9 | HLF           |  0.7928153980 |  0.615993902  | 1279410.716   |  0.9232394    | \n",
       "| 4 | STAT4         |  2.7234147543 |  1.028224197  |  657266.220   |  0.9047599    | \n",
       "| 42 | SATB1         |            NA | -0.508837252  |  536031.869   |  0.8628270    | \n",
       "| 14 | SATB2         |  0.1170162587 |  1.116708683  |  414212.621   |  0.8423299    | \n",
       "| 23 | ATF2          |            NA |  0.966270108  |  141242.778   |  0.8278686    | \n",
       "| 5 | FOXP2         |  2.5415262709 |  3.969474560  |  131526.319   |  0.8196172    | \n",
       "| 11 | TSHZ2         |  0.6712651520 |  1.034221304  |   73002.899   |  0.7704362    | \n",
       "| 36 | DRGX          |            NA | -0.027522731  |   55309.044   |  0.7309450    | \n",
       "| 1 | HDX           | 11.1120492315 |  8.397799560  |   57903.645   |  0.7241906    | \n",
       "| 25 | FOXJ3         |            NA | -0.017184619  |   28277.163   |  0.7198456    | \n",
       "| 8 | LHX6          |  1.3312683030 |  1.948447193  |   32410.302   |  0.7146115    | \n",
       "| 12 | ESRRG         |  0.6011560446 |  0.002655982  |   61068.939   |  0.7090318    | \n",
       "| 29 | TSHZ3         |            NA | -0.007920152  |   21620.235   |  0.7056290    | \n",
       "| 40 | TCF7          |            NA |  0.075399916  |   67294.975   | -0.6624430    | \n",
       "| 13 | NFE2L2        | -0.3117654737 | -0.505806479  |   17027.772   | -0.6383820    | \n",
       "| 18 | CUX2          |  0.0003296834 |  0.696664695  |   11901.553   |  0.6276504    | \n",
       "| 15 | SOX12         | -0.1095791636 |  0.012721950  |   75668.985   | -0.6240457    | \n",
       "| 10 | HOMEZ         | -0.7723859025 | -3.531310300  |    2370.472   | -0.5832669    | \n",
       "| 17 | ARX           |  0.0141418779 |  0.083277279  |    6325.545   |  0.5774304    | \n",
       "| 41 | STAT5A        |            NA | -5.535262330  |    2692.361   | -0.5746475    | \n",
       "\n",
       "\n"
      ],
      "text/plain": [
       "   gene   lasso.as.is   bs.as.is     rf.as.is    gene.cor  \n",
       "9  HLF     0.7928153980  0.615993902 1279410.716  0.9232394\n",
       "4  STAT4   2.7234147543  1.028224197  657266.220  0.9047599\n",
       "42 SATB1             NA -0.508837252  536031.869  0.8628270\n",
       "14 SATB2   0.1170162587  1.116708683  414212.621  0.8423299\n",
       "23 ATF2              NA  0.966270108  141242.778  0.8278686\n",
       "5  FOXP2   2.5415262709  3.969474560  131526.319  0.8196172\n",
       "11 TSHZ2   0.6712651520  1.034221304   73002.899  0.7704362\n",
       "36 DRGX              NA -0.027522731   55309.044  0.7309450\n",
       "1  HDX    11.1120492315  8.397799560   57903.645  0.7241906\n",
       "25 FOXJ3             NA -0.017184619   28277.163  0.7198456\n",
       "8  LHX6    1.3312683030  1.948447193   32410.302  0.7146115\n",
       "12 ESRRG   0.6011560446  0.002655982   61068.939  0.7090318\n",
       "29 TSHZ3             NA -0.007920152   21620.235  0.7056290\n",
       "40 TCF7              NA  0.075399916   67294.975 -0.6624430\n",
       "13 NFE2L2 -0.3117654737 -0.505806479   17027.772 -0.6383820\n",
       "18 CUX2    0.0003296834  0.696664695   11901.553  0.6276504\n",
       "15 SOX12  -0.1095791636  0.012721950   75668.985 -0.6240457\n",
       "10 HOMEZ  -0.7723859025 -3.531310300    2370.472 -0.5832669\n",
       "17 ARX     0.0141418779  0.083277279    6325.545  0.5774304\n",
       "41 STAT5A            NA -5.535262330    2692.361 -0.5746475"
      ]
     },
     "metadata": {},
     "output_type": "display_data"
    },
    {
     "data": {
      "text/html": [
       "0.642976293878198"
      ],
      "text/latex": [
       "0.642976293878198"
      ],
      "text/markdown": [
       "0.642976293878198"
      ],
      "text/plain": [
       "[1] 0.6429763"
      ]
     },
     "metadata": {},
     "output_type": "display_data"
    },
    {
     "data": {
      "text/html": [
       "0.176430672528389"
      ],
      "text/latex": [
       "0.176430672528389"
      ],
      "text/markdown": [
       "0.176430672528389"
      ],
      "text/plain": [
       "[1] 0.1764307"
      ]
     },
     "metadata": {},
     "output_type": "display_data"
    },
    {
     "data": {
      "text/html": [
       "0.0360154873235388"
      ],
      "text/latex": [
       "0.0360154873235388"
      ],
      "text/markdown": [
       "0.0360154873235388"
      ],
      "text/plain": [
       "[1] 0.03601549"
      ]
     },
     "metadata": {},
     "output_type": "display_data"
    }
   ],
   "source": [
    "head(tbl.all[,c(1,2,5,8,11)],20)\n",
    "idx <- complete.cases(tbl.all[,2])\n",
    "cor(tbl.all$lasso.as.is[idx],tbl.all$bs.as.is[idx])\n",
    "cor(tbl.all$lasso.as.is[idx],tbl.all$rf.as.is[idx])\n",
    "cor(tbl.all$bs.as.is,tbl.all$rf.as.is)"
   ]
  },
  {
   "cell_type": "markdown",
   "metadata": {},
   "source": [
    "It looks like LASSO and Bayes Spike actually have a fairly strong correlation. Random Forest isn't well correlated with either of the others, but is it better aligned with the gene correlations themselves?"
   ]
  },
  {
   "cell_type": "code",
   "execution_count": 10,
   "metadata": {
    "collapsed": false
   },
   "outputs": [
    {
     "data": {
      "text/html": [
       "0.48111959858244"
      ],
      "text/latex": [
       "0.48111959858244"
      ],
      "text/markdown": [
       "0.48111959858244"
      ],
      "text/plain": [
       "[1] 0.4811196"
      ]
     },
     "metadata": {},
     "output_type": "display_data"
    },
    {
     "data": {
      "text/html": [
       "0.139075081552205"
      ],
      "text/latex": [
       "0.139075081552205"
      ],
      "text/markdown": [
       "0.139075081552205"
      ],
      "text/plain": [
       "[1] 0.1390751"
      ]
     },
     "metadata": {},
     "output_type": "display_data"
    },
    {
     "data": {
      "text/html": [
       "0.458080886731108"
      ],
      "text/latex": [
       "0.458080886731108"
      ],
      "text/markdown": [
       "0.458080886731108"
      ],
      "text/plain": [
       "[1] 0.4580809"
      ]
     },
     "metadata": {},
     "output_type": "display_data"
    }
   ],
   "source": [
    "cor(tbl.all$lasso.as.is[idx],tbl.all$gene.cor[idx])\n",
    "cor(tbl.all$bs.as.is,tbl.all$gene.cor)\n",
    "cor(tbl.all$rf.as.is,tbl.all$gene.cor)"
   ]
  },
  {
   "cell_type": "markdown",
   "metadata": {},
   "source": [
    "Based solely upon the Pearson coefficients between transcription factors and target genes, the LASSO and Random Forest perform similarly on the \"as-is\" matrix, and both far better than Bayes Spike. Let's do the same for the log2 data"
   ]
  },
  {
   "cell_type": "code",
   "execution_count": 11,
   "metadata": {
    "collapsed": false
   },
   "outputs": [
    {
     "data": {
      "text/html": [
       "<table>\n",
       "<thead><tr><th></th><th scope=col>gene</th><th scope=col>lasso.log2</th><th scope=col>bs.log2</th><th scope=col>rf.log2</th><th scope=col>gene.cor</th></tr></thead>\n",
       "<tbody>\n",
       "\t<tr><th scope=row>9</th><td>HLF          </td><td> 0.211671527 </td><td> 4.397926e-01</td><td>59.3208829   </td><td> 0.9232394   </td></tr>\n",
       "\t<tr><th scope=row>4</th><td>STAT4        </td><td> 0.062369774 </td><td> 2.345882e-01</td><td>48.3055177   </td><td> 0.9047599   </td></tr>\n",
       "\t<tr><th scope=row>42</th><td>SATB1        </td><td>          NA </td><td>-2.398520e-06</td><td>21.9056028   </td><td> 0.8628270   </td></tr>\n",
       "\t<tr><th scope=row>14</th><td>SATB2        </td><td> 0.208034764 </td><td> 1.717411e-04</td><td>24.0466254   </td><td> 0.8423299   </td></tr>\n",
       "\t<tr><th scope=row>23</th><td>ATF2         </td><td> 0.122286098 </td><td> 6.846773e-05</td><td> 3.1732559   </td><td> 0.8278686   </td></tr>\n",
       "\t<tr><th scope=row>5</th><td>FOXP2        </td><td> 0.134731271 </td><td> 9.103155e-05</td><td> 6.1324362   </td><td> 0.8196172   </td></tr>\n",
       "\t<tr><th scope=row>11</th><td>TSHZ2        </td><td> 0.135604740 </td><td> 2.462877e-01</td><td> 5.6631952   </td><td> 0.7704362   </td></tr>\n",
       "\t<tr><th scope=row>36</th><td>DRGX         </td><td> 0.004729671 </td><td> 3.288638e-05</td><td> 7.9213840   </td><td> 0.7309450   </td></tr>\n",
       "\t<tr><th scope=row>1</th><td>HDX          </td><td>          NA </td><td> 1.693965e-05</td><td> 1.2843353   </td><td> 0.7241906   </td></tr>\n",
       "\t<tr><th scope=row>25</th><td>FOXJ3        </td><td>-0.100088093 </td><td> 3.524913e-05</td><td> 0.5174434   </td><td> 0.7198456   </td></tr>\n",
       "\t<tr><th scope=row>8</th><td>LHX6         </td><td> 0.080145291 </td><td> 8.222151e-06</td><td> 2.2883895   </td><td> 0.7146115   </td></tr>\n",
       "\t<tr><th scope=row>12</th><td>ESRRG        </td><td> 0.011165266 </td><td> 1.386735e-05</td><td> 4.4440203   </td><td> 0.7090318   </td></tr>\n",
       "\t<tr><th scope=row>29</th><td>TSHZ3        </td><td> 0.015816848 </td><td> 2.356211e-04</td><td> 7.4947143   </td><td> 0.7056290   </td></tr>\n",
       "\t<tr><th scope=row>40</th><td>TCF7         </td><td>          NA </td><td>-3.235511e-05</td><td> 0.9347182   </td><td>-0.6624430   </td></tr>\n",
       "\t<tr><th scope=row>13</th><td>NFE2L2       </td><td>-0.115148264 </td><td>-1.118489e-04</td><td> 0.6175119   </td><td>-0.6383820   </td></tr>\n",
       "\t<tr><th scope=row>18</th><td>CUX2         </td><td> 0.102612677 </td><td> 9.572985e-05</td><td> 4.2019413   </td><td> 0.6276504   </td></tr>\n",
       "\t<tr><th scope=row>15</th><td>SOX12        </td><td>          NA </td><td>-5.421697e-05</td><td> 1.8032634   </td><td>-0.6240457   </td></tr>\n",
       "\t<tr><th scope=row>10</th><td>HOMEZ        </td><td>-0.067028618 </td><td>-1.159559e-04</td><td> 0.1320689   </td><td>-0.5832669   </td></tr>\n",
       "\t<tr><th scope=row>17</th><td>ARX          </td><td> 0.038646674 </td><td> 1.375246e-01</td><td> 0.4624562   </td><td> 0.5774304   </td></tr>\n",
       "\t<tr><th scope=row>41</th><td>STAT5A       </td><td>          NA </td><td>-1.377761e-05</td><td> 0.4172006   </td><td>-0.5746475   </td></tr>\n",
       "</tbody>\n",
       "</table>\n"
      ],
      "text/latex": [
       "\\begin{tabular}{r|lllll}\n",
       "  & gene & lasso.log2 & bs.log2 & rf.log2 & gene.cor\\\\\n",
       "\\hline\n",
       "\t9 & HLF           &  0.211671527  &  4.397926e-01 & 59.3208829    &  0.9232394   \\\\\n",
       "\t4 & STAT4         &  0.062369774  &  2.345882e-01 & 48.3055177    &  0.9047599   \\\\\n",
       "\t42 & SATB1         &           NA  & -2.398520e-06 & 21.9056028    &  0.8628270   \\\\\n",
       "\t14 & SATB2         &  0.208034764  &  1.717411e-04 & 24.0466254    &  0.8423299   \\\\\n",
       "\t23 & ATF2          &  0.122286098  &  6.846773e-05 &  3.1732559    &  0.8278686   \\\\\n",
       "\t5 & FOXP2         &  0.134731271  &  9.103155e-05 &  6.1324362    &  0.8196172   \\\\\n",
       "\t11 & TSHZ2         &  0.135604740  &  2.462877e-01 &  5.6631952    &  0.7704362   \\\\\n",
       "\t36 & DRGX          &  0.004729671  &  3.288638e-05 &  7.9213840    &  0.7309450   \\\\\n",
       "\t1 & HDX           &           NA  &  1.693965e-05 &  1.2843353    &  0.7241906   \\\\\n",
       "\t25 & FOXJ3         & -0.100088093  &  3.524913e-05 &  0.5174434    &  0.7198456   \\\\\n",
       "\t8 & LHX6          &  0.080145291  &  8.222151e-06 &  2.2883895    &  0.7146115   \\\\\n",
       "\t12 & ESRRG         &  0.011165266  &  1.386735e-05 &  4.4440203    &  0.7090318   \\\\\n",
       "\t29 & TSHZ3         &  0.015816848  &  2.356211e-04 &  7.4947143    &  0.7056290   \\\\\n",
       "\t40 & TCF7          &           NA  & -3.235511e-05 &  0.9347182    & -0.6624430   \\\\\n",
       "\t13 & NFE2L2        & -0.115148264  & -1.118489e-04 &  0.6175119    & -0.6383820   \\\\\n",
       "\t18 & CUX2          &  0.102612677  &  9.572985e-05 &  4.2019413    &  0.6276504   \\\\\n",
       "\t15 & SOX12         &           NA  & -5.421697e-05 &  1.8032634    & -0.6240457   \\\\\n",
       "\t10 & HOMEZ         & -0.067028618  & -1.159559e-04 &  0.1320689    & -0.5832669   \\\\\n",
       "\t17 & ARX           &  0.038646674  &  1.375246e-01 &  0.4624562    &  0.5774304   \\\\\n",
       "\t41 & STAT5A        &           NA  & -1.377761e-05 &  0.4172006    & -0.5746475   \\\\\n",
       "\\end{tabular}\n"
      ],
      "text/markdown": [
       "\n",
       "| <!--/--> | gene | lasso.log2 | bs.log2 | rf.log2 | gene.cor | \n",
       "|---|---|---|---|---|---|---|---|---|---|---|---|---|---|---|---|---|---|---|---|\n",
       "| 9 | HLF           |  0.211671527  |  4.397926e-01 | 59.3208829    |  0.9232394    | \n",
       "| 4 | STAT4         |  0.062369774  |  2.345882e-01 | 48.3055177    |  0.9047599    | \n",
       "| 42 | SATB1         |           NA  | -2.398520e-06 | 21.9056028    |  0.8628270    | \n",
       "| 14 | SATB2         |  0.208034764  |  1.717411e-04 | 24.0466254    |  0.8423299    | \n",
       "| 23 | ATF2          |  0.122286098  |  6.846773e-05 |  3.1732559    |  0.8278686    | \n",
       "| 5 | FOXP2         |  0.134731271  |  9.103155e-05 |  6.1324362    |  0.8196172    | \n",
       "| 11 | TSHZ2         |  0.135604740  |  2.462877e-01 |  5.6631952    |  0.7704362    | \n",
       "| 36 | DRGX          |  0.004729671  |  3.288638e-05 |  7.9213840    |  0.7309450    | \n",
       "| 1 | HDX           |           NA  |  1.693965e-05 |  1.2843353    |  0.7241906    | \n",
       "| 25 | FOXJ3         | -0.100088093  |  3.524913e-05 |  0.5174434    |  0.7198456    | \n",
       "| 8 | LHX6          |  0.080145291  |  8.222151e-06 |  2.2883895    |  0.7146115    | \n",
       "| 12 | ESRRG         |  0.011165266  |  1.386735e-05 |  4.4440203    |  0.7090318    | \n",
       "| 29 | TSHZ3         |  0.015816848  |  2.356211e-04 |  7.4947143    |  0.7056290    | \n",
       "| 40 | TCF7          |           NA  | -3.235511e-05 |  0.9347182    | -0.6624430    | \n",
       "| 13 | NFE2L2        | -0.115148264  | -1.118489e-04 |  0.6175119    | -0.6383820    | \n",
       "| 18 | CUX2          |  0.102612677  |  9.572985e-05 |  4.2019413    |  0.6276504    | \n",
       "| 15 | SOX12         |           NA  | -5.421697e-05 |  1.8032634    | -0.6240457    | \n",
       "| 10 | HOMEZ         | -0.067028618  | -1.159559e-04 |  0.1320689    | -0.5832669    | \n",
       "| 17 | ARX           |  0.038646674  |  1.375246e-01 |  0.4624562    |  0.5774304    | \n",
       "| 41 | STAT5A        |           NA  | -1.377761e-05 |  0.4172006    | -0.5746475    | \n",
       "\n",
       "\n"
      ],
      "text/plain": [
       "   gene   lasso.log2   bs.log2       rf.log2    gene.cor  \n",
       "9  HLF     0.211671527  4.397926e-01 59.3208829  0.9232394\n",
       "4  STAT4   0.062369774  2.345882e-01 48.3055177  0.9047599\n",
       "42 SATB1            NA -2.398520e-06 21.9056028  0.8628270\n",
       "14 SATB2   0.208034764  1.717411e-04 24.0466254  0.8423299\n",
       "23 ATF2    0.122286098  6.846773e-05  3.1732559  0.8278686\n",
       "5  FOXP2   0.134731271  9.103155e-05  6.1324362  0.8196172\n",
       "11 TSHZ2   0.135604740  2.462877e-01  5.6631952  0.7704362\n",
       "36 DRGX    0.004729671  3.288638e-05  7.9213840  0.7309450\n",
       "1  HDX              NA  1.693965e-05  1.2843353  0.7241906\n",
       "25 FOXJ3  -0.100088093  3.524913e-05  0.5174434  0.7198456\n",
       "8  LHX6    0.080145291  8.222151e-06  2.2883895  0.7146115\n",
       "12 ESRRG   0.011165266  1.386735e-05  4.4440203  0.7090318\n",
       "29 TSHZ3   0.015816848  2.356211e-04  7.4947143  0.7056290\n",
       "40 TCF7             NA -3.235511e-05  0.9347182 -0.6624430\n",
       "13 NFE2L2 -0.115148264 -1.118489e-04  0.6175119 -0.6383820\n",
       "18 CUX2    0.102612677  9.572985e-05  4.2019413  0.6276504\n",
       "15 SOX12            NA -5.421697e-05  1.8032634 -0.6240457\n",
       "10 HOMEZ  -0.067028618 -1.159559e-04  0.1320689 -0.5832669\n",
       "17 ARX     0.038646674  1.375246e-01  0.4624562  0.5774304\n",
       "41 STAT5A           NA -1.377761e-05  0.4172006 -0.5746475"
      ]
     },
     "metadata": {},
     "output_type": "display_data"
    },
    {
     "data": {
      "text/html": [
       "0.545412424122516"
      ],
      "text/latex": [
       "0.545412424122516"
      ],
      "text/markdown": [
       "0.545412424122516"
      ],
      "text/plain": [
       "[1] 0.5454124"
      ]
     },
     "metadata": {},
     "output_type": "display_data"
    },
    {
     "data": {
      "text/html": [
       "0.436242213177635"
      ],
      "text/latex": [
       "0.436242213177635"
      ],
      "text/markdown": [
       "0.436242213177635"
      ],
      "text/plain": [
       "[1] 0.4362422"
      ]
     },
     "metadata": {},
     "output_type": "display_data"
    },
    {
     "data": {
      "text/html": [
       "0.591006392089326"
      ],
      "text/latex": [
       "0.591006392089326"
      ],
      "text/markdown": [
       "0.591006392089326"
      ],
      "text/plain": [
       "[1] 0.5910064"
      ]
     },
     "metadata": {},
     "output_type": "display_data"
    }
   ],
   "source": [
    "head(tbl.all[,c(1,3,6,9,11)],20)\n",
    "idx <- complete.cases(tbl.all[,3])\n",
    "cor(tbl.all$lasso.log2[idx],tbl.all$bs.log2[idx])\n",
    "cor(tbl.all$lasso.log2[idx],tbl.all$rf.log2[idx])\n",
    "cor(tbl.all$bs.log2,tbl.all$rf.log2)"
   ]
  },
  {
   "cell_type": "code",
   "execution_count": 14,
   "metadata": {
    "collapsed": false
   },
   "outputs": [
    {
     "data": {
      "text/html": [
       "0.600993825679734"
      ],
      "text/latex": [
       "0.600993825679734"
      ],
      "text/markdown": [
       "0.600993825679734"
      ],
      "text/plain": [
       "[1] 0.6009938"
      ]
     },
     "metadata": {},
     "output_type": "display_data"
    },
    {
     "data": {
      "text/html": [
       "0.381420677464462"
      ],
      "text/latex": [
       "0.381420677464462"
      ],
      "text/markdown": [
       "0.381420677464462"
      ],
      "text/plain": [
       "[1] 0.3814207"
      ]
     },
     "metadata": {},
     "output_type": "display_data"
    },
    {
     "data": {
      "text/html": [
       "0.506426045134778"
      ],
      "text/latex": [
       "0.506426045134778"
      ],
      "text/markdown": [
       "0.506426045134778"
      ],
      "text/plain": [
       "[1] 0.506426"
      ]
     },
     "metadata": {},
     "output_type": "display_data"
    }
   ],
   "source": [
    "cor(tbl.all$lasso.log2[idx],tbl.all$gene.cor[idx])\n",
    "cor(tbl.all$bs.log2,tbl.all$gene.cor)\n",
    "cor(tbl.all$rf.log2,tbl.all$gene.cor)"
   ]
  },
  {
   "cell_type": "markdown",
   "metadata": {},
   "source": [
    "Similar to the \"as-is\", the log2-transformed data demonstrate that LASSO actually has the highest correlation with the gene Pearson correlation coefficients. We'll finish by looking at the asinh-transformed data"
   ]
  },
  {
   "cell_type": "code",
   "execution_count": 15,
   "metadata": {
    "collapsed": false
   },
   "outputs": [
    {
     "data": {
      "text/html": [
       "<table>\n",
       "<thead><tr><th></th><th scope=col>gene</th><th scope=col>lasso.asinh</th><th scope=col>bs.asinh</th><th scope=col>rf.asinh</th><th scope=col>gene.cor</th></tr></thead>\n",
       "<tbody>\n",
       "\t<tr><th scope=row>9</th><td>HLF          </td><td> 0.1218555282</td><td> 8.021380e-02</td><td>25.0821372   </td><td> 0.9232394   </td></tr>\n",
       "\t<tr><th scope=row>4</th><td>STAT4        </td><td> 0.1668978520</td><td> 1.600971e-01</td><td>21.2427661   </td><td> 0.9047599   </td></tr>\n",
       "\t<tr><th scope=row>42</th><td>SATB1        </td><td>           NA</td><td> 4.719466e-06</td><td>11.5280330   </td><td> 0.8628270   </td></tr>\n",
       "\t<tr><th scope=row>14</th><td>SATB2        </td><td> 0.2352948098</td><td> 2.818277e-02</td><td>13.2971485   </td><td> 0.8423299   </td></tr>\n",
       "\t<tr><th scope=row>23</th><td>ATF2         </td><td>           NA</td><td> 2.383583e-02</td><td> 3.0178257   </td><td> 0.8278686   </td></tr>\n",
       "\t<tr><th scope=row>5</th><td>FOXP2        </td><td> 0.1065497711</td><td> 2.170502e-01</td><td> 2.7998044   </td><td> 0.8196172   </td></tr>\n",
       "\t<tr><th scope=row>11</th><td>TSHZ2        </td><td> 0.0891001802</td><td> 9.666456e-02</td><td> 2.8863433   </td><td> 0.7704362   </td></tr>\n",
       "\t<tr><th scope=row>36</th><td>DRGX         </td><td>           NA</td><td>-3.878668e-06</td><td> 3.6591379   </td><td> 0.7309450   </td></tr>\n",
       "\t<tr><th scope=row>1</th><td>HDX          </td><td>           NA</td><td> 8.489143e-05</td><td> 0.8112355   </td><td> 0.7241906   </td></tr>\n",
       "\t<tr><th scope=row>25</th><td>FOXJ3        </td><td>           NA</td><td> 2.630947e-01</td><td> 0.2449619   </td><td> 0.7198456   </td></tr>\n",
       "\t<tr><th scope=row>8</th><td>LHX6         </td><td> 0.0981626543</td><td> 6.144968e-04</td><td> 1.5433614   </td><td> 0.7146115   </td></tr>\n",
       "\t<tr><th scope=row>12</th><td>ESRRG        </td><td> 0.0006280686</td><td> 1.869506e-01</td><td> 2.5512376   </td><td> 0.7090318   </td></tr>\n",
       "\t<tr><th scope=row>29</th><td>TSHZ3        </td><td> 0.1096819296</td><td> 2.852963e-02</td><td> 3.5288726   </td><td> 0.7056290   </td></tr>\n",
       "\t<tr><th scope=row>40</th><td>TCF7         </td><td>-0.0161732400</td><td>-2.743178e-04</td><td> 0.5126479   </td><td>-0.6624430   </td></tr>\n",
       "\t<tr><th scope=row>13</th><td>NFE2L2       </td><td>           NA</td><td>-5.202454e-02</td><td> 0.3727604   </td><td>-0.6383820   </td></tr>\n",
       "\t<tr><th scope=row>18</th><td>CUX2         </td><td> 0.0640205408</td><td> 2.182949e-01</td><td> 2.2390343   </td><td> 0.6276504   </td></tr>\n",
       "\t<tr><th scope=row>15</th><td>SOX12        </td><td>-0.0851708032</td><td>-5.439551e-05</td><td> 0.7589271   </td><td>-0.6240457   </td></tr>\n",
       "\t<tr><th scope=row>10</th><td>HOMEZ        </td><td>           NA</td><td>-6.393264e-04</td><td> 0.1144582   </td><td>-0.5832669   </td></tr>\n",
       "\t<tr><th scope=row>17</th><td>ARX          </td><td>           NA</td><td> 6.460960e-05</td><td> 0.2220843   </td><td> 0.5774304   </td></tr>\n",
       "\t<tr><th scope=row>41</th><td>STAT5A       </td><td>           NA</td><td> 5.683070e-05</td><td> 0.1902756   </td><td>-0.5746475   </td></tr>\n",
       "</tbody>\n",
       "</table>\n"
      ],
      "text/latex": [
       "\\begin{tabular}{r|lllll}\n",
       "  & gene & lasso.asinh & bs.asinh & rf.asinh & gene.cor\\\\\n",
       "\\hline\n",
       "\t9 & HLF           &  0.1218555282 &  8.021380e-02 & 25.0821372    &  0.9232394   \\\\\n",
       "\t4 & STAT4         &  0.1668978520 &  1.600971e-01 & 21.2427661    &  0.9047599   \\\\\n",
       "\t42 & SATB1         &            NA &  4.719466e-06 & 11.5280330    &  0.8628270   \\\\\n",
       "\t14 & SATB2         &  0.2352948098 &  2.818277e-02 & 13.2971485    &  0.8423299   \\\\\n",
       "\t23 & ATF2          &            NA &  2.383583e-02 &  3.0178257    &  0.8278686   \\\\\n",
       "\t5 & FOXP2         &  0.1065497711 &  2.170502e-01 &  2.7998044    &  0.8196172   \\\\\n",
       "\t11 & TSHZ2         &  0.0891001802 &  9.666456e-02 &  2.8863433    &  0.7704362   \\\\\n",
       "\t36 & DRGX          &            NA & -3.878668e-06 &  3.6591379    &  0.7309450   \\\\\n",
       "\t1 & HDX           &            NA &  8.489143e-05 &  0.8112355    &  0.7241906   \\\\\n",
       "\t25 & FOXJ3         &            NA &  2.630947e-01 &  0.2449619    &  0.7198456   \\\\\n",
       "\t8 & LHX6          &  0.0981626543 &  6.144968e-04 &  1.5433614    &  0.7146115   \\\\\n",
       "\t12 & ESRRG         &  0.0006280686 &  1.869506e-01 &  2.5512376    &  0.7090318   \\\\\n",
       "\t29 & TSHZ3         &  0.1096819296 &  2.852963e-02 &  3.5288726    &  0.7056290   \\\\\n",
       "\t40 & TCF7          & -0.0161732400 & -2.743178e-04 &  0.5126479    & -0.6624430   \\\\\n",
       "\t13 & NFE2L2        &            NA & -5.202454e-02 &  0.3727604    & -0.6383820   \\\\\n",
       "\t18 & CUX2          &  0.0640205408 &  2.182949e-01 &  2.2390343    &  0.6276504   \\\\\n",
       "\t15 & SOX12         & -0.0851708032 & -5.439551e-05 &  0.7589271    & -0.6240457   \\\\\n",
       "\t10 & HOMEZ         &            NA & -6.393264e-04 &  0.1144582    & -0.5832669   \\\\\n",
       "\t17 & ARX           &            NA &  6.460960e-05 &  0.2220843    &  0.5774304   \\\\\n",
       "\t41 & STAT5A        &            NA &  5.683070e-05 &  0.1902756    & -0.5746475   \\\\\n",
       "\\end{tabular}\n"
      ],
      "text/markdown": [
       "\n",
       "| <!--/--> | gene | lasso.asinh | bs.asinh | rf.asinh | gene.cor | \n",
       "|---|---|---|---|---|---|---|---|---|---|---|---|---|---|---|---|---|---|---|---|\n",
       "| 9 | HLF           |  0.1218555282 |  8.021380e-02 | 25.0821372    |  0.9232394    | \n",
       "| 4 | STAT4         |  0.1668978520 |  1.600971e-01 | 21.2427661    |  0.9047599    | \n",
       "| 42 | SATB1         |            NA |  4.719466e-06 | 11.5280330    |  0.8628270    | \n",
       "| 14 | SATB2         |  0.2352948098 |  2.818277e-02 | 13.2971485    |  0.8423299    | \n",
       "| 23 | ATF2          |            NA |  2.383583e-02 |  3.0178257    |  0.8278686    | \n",
       "| 5 | FOXP2         |  0.1065497711 |  2.170502e-01 |  2.7998044    |  0.8196172    | \n",
       "| 11 | TSHZ2         |  0.0891001802 |  9.666456e-02 |  2.8863433    |  0.7704362    | \n",
       "| 36 | DRGX          |            NA | -3.878668e-06 |  3.6591379    |  0.7309450    | \n",
       "| 1 | HDX           |            NA |  8.489143e-05 |  0.8112355    |  0.7241906    | \n",
       "| 25 | FOXJ3         |            NA |  2.630947e-01 |  0.2449619    |  0.7198456    | \n",
       "| 8 | LHX6          |  0.0981626543 |  6.144968e-04 |  1.5433614    |  0.7146115    | \n",
       "| 12 | ESRRG         |  0.0006280686 |  1.869506e-01 |  2.5512376    |  0.7090318    | \n",
       "| 29 | TSHZ3         |  0.1096819296 |  2.852963e-02 |  3.5288726    |  0.7056290    | \n",
       "| 40 | TCF7          | -0.0161732400 | -2.743178e-04 |  0.5126479    | -0.6624430    | \n",
       "| 13 | NFE2L2        |            NA | -5.202454e-02 |  0.3727604    | -0.6383820    | \n",
       "| 18 | CUX2          |  0.0640205408 |  2.182949e-01 |  2.2390343    |  0.6276504    | \n",
       "| 15 | SOX12         | -0.0851708032 | -5.439551e-05 |  0.7589271    | -0.6240457    | \n",
       "| 10 | HOMEZ         |            NA | -6.393264e-04 |  0.1144582    | -0.5832669    | \n",
       "| 17 | ARX           |            NA |  6.460960e-05 |  0.2220843    |  0.5774304    | \n",
       "| 41 | STAT5A        |            NA |  5.683070e-05 |  0.1902756    | -0.5746475    | \n",
       "\n",
       "\n"
      ],
      "text/plain": [
       "   gene   lasso.asinh   bs.asinh      rf.asinh   gene.cor  \n",
       "9  HLF     0.1218555282  8.021380e-02 25.0821372  0.9232394\n",
       "4  STAT4   0.1668978520  1.600971e-01 21.2427661  0.9047599\n",
       "42 SATB1             NA  4.719466e-06 11.5280330  0.8628270\n",
       "14 SATB2   0.2352948098  2.818277e-02 13.2971485  0.8423299\n",
       "23 ATF2              NA  2.383583e-02  3.0178257  0.8278686\n",
       "5  FOXP2   0.1065497711  2.170502e-01  2.7998044  0.8196172\n",
       "11 TSHZ2   0.0891001802  9.666456e-02  2.8863433  0.7704362\n",
       "36 DRGX              NA -3.878668e-06  3.6591379  0.7309450\n",
       "1  HDX               NA  8.489143e-05  0.8112355  0.7241906\n",
       "25 FOXJ3             NA  2.630947e-01  0.2449619  0.7198456\n",
       "8  LHX6    0.0981626543  6.144968e-04  1.5433614  0.7146115\n",
       "12 ESRRG   0.0006280686  1.869506e-01  2.5512376  0.7090318\n",
       "29 TSHZ3   0.1096819296  2.852963e-02  3.5288726  0.7056290\n",
       "40 TCF7   -0.0161732400 -2.743178e-04  0.5126479 -0.6624430\n",
       "13 NFE2L2            NA -5.202454e-02  0.3727604 -0.6383820\n",
       "18 CUX2    0.0640205408  2.182949e-01  2.2390343  0.6276504\n",
       "15 SOX12  -0.0851708032 -5.439551e-05  0.7589271 -0.6240457\n",
       "10 HOMEZ             NA -6.393264e-04  0.1144582 -0.5832669\n",
       "17 ARX               NA  6.460960e-05  0.2220843  0.5774304\n",
       "41 STAT5A            NA  5.683070e-05  0.1902756 -0.5746475"
      ]
     },
     "metadata": {},
     "output_type": "display_data"
    },
    {
     "data": {
      "text/html": [
       "0.414824423771875"
      ],
      "text/latex": [
       "0.414824423771875"
      ],
      "text/markdown": [
       "0.414824423771875"
      ],
      "text/plain": [
       "[1] 0.4148244"
      ]
     },
     "metadata": {},
     "output_type": "display_data"
    },
    {
     "data": {
      "text/html": [
       "0.667023379753992"
      ],
      "text/latex": [
       "0.667023379753992"
      ],
      "text/markdown": [
       "0.667023379753992"
      ],
      "text/plain": [
       "[1] 0.6670234"
      ]
     },
     "metadata": {},
     "output_type": "display_data"
    },
    {
     "data": {
      "text/html": [
       "0.275048914464237"
      ],
      "text/latex": [
       "0.275048914464237"
      ],
      "text/markdown": [
       "0.275048914464237"
      ],
      "text/plain": [
       "[1] 0.2750489"
      ]
     },
     "metadata": {},
     "output_type": "display_data"
    }
   ],
   "source": [
    "head(tbl.all[,c(1,4,7,10,11)],20)\n",
    "idx <- complete.cases(tbl.all[,4])\n",
    "cor(tbl.all$lasso.asinh[idx],tbl.all$bs.asinh[idx])\n",
    "cor(tbl.all$lasso.asinh[idx],tbl.all$rf.asinh[idx])\n",
    "cor(tbl.all$bs.asinh,tbl.all$rf.asinh)"
   ]
  },
  {
   "cell_type": "code",
   "execution_count": 16,
   "metadata": {
    "collapsed": false
   },
   "outputs": [
    {
     "data": {
      "text/html": [
       "0.868472101640512"
      ],
      "text/latex": [
       "0.868472101640512"
      ],
      "text/markdown": [
       "0.868472101640512"
      ],
      "text/plain": [
       "[1] 0.8684721"
      ]
     },
     "metadata": {},
     "output_type": "display_data"
    },
    {
     "data": {
      "text/html": [
       "0.499180621024291"
      ],
      "text/latex": [
       "0.499180621024291"
      ],
      "text/markdown": [
       "0.499180621024291"
      ],
      "text/plain": [
       "[1] 0.4991806"
      ]
     },
     "metadata": {},
     "output_type": "display_data"
    },
    {
     "data": {
      "text/html": [
       "0.540805011742418"
      ],
      "text/latex": [
       "0.540805011742418"
      ],
      "text/markdown": [
       "0.540805011742418"
      ],
      "text/plain": [
       "[1] 0.540805"
      ]
     },
     "metadata": {},
     "output_type": "display_data"
    }
   ],
   "source": [
    "cor(tbl.all$lasso.asinh[idx],tbl.all$gene.cor[idx])\n",
    "cor(tbl.all$bs.asinh,tbl.all$gene.cor)\n",
    "cor(tbl.all$rf.asinh,tbl.all$gene.cor)"
   ]
  },
  {
   "cell_type": "markdown",
   "metadata": {},
   "source": [
    "## Takeaways\n",
    "\n",
    "Based upon this short data exploration, there are a few key points to take away:\n",
    "\n",
    "1. Data transformation can profoundly affect results. There is no guarantee of consistency across different transformations, even for the same solvers.\n",
    "\n",
    "2. Random Forest scores are the most consistent across different transformations and with Pearson correlation coefficients between target genes and transcription factors."
   ]
  },
  {
   "cell_type": "code",
   "execution_count": 13,
   "metadata": {
    "collapsed": false
   },
   "outputs": [
    {
     "data": {},
     "metadata": {},
     "output_type": "display_data"
    },
    {
     "ename": "ERROR",
     "evalue": "Error in grid.Call(L_textBounds, as.graphicsAnnot(x$label), x$x, x$y, : polygon edge not found\n",
     "output_type": "error",
     "traceback": [
      "Error in grid.Call(L_textBounds, as.graphicsAnnot(x$label), x$x, x$y, : polygon edge not found\nTraceback:\n"
     ]
    },
    {
     "data": {
      "text/plain": [
       "plot without title"
      ]
     },
     "metadata": {},
     "output_type": "display_data"
    }
   ],
   "source": [
    "blah <- \"rf.as.is\"\n",
    "library(ggplot2)\n",
    "g <- ggplot(tbl.all,aes(x=rf.asinh,y=blah))\n",
    "g + geom_point()"
   ]
  },
  {
   "cell_type": "code",
   "execution_count": 17,
   "metadata": {
    "collapsed": false
   },
   "outputs": [
    {
     "data": {
      "image/png": "[encoded data removed]",
      "text/plain": [
       "plot without title"
      ]
     },
     "metadata": {},
     "output_type": "display_data"
    }
   ],
   "source": [
    "with(tbl.all, plot(x=lasso.asinh[idx],y=gene.cor[idx]))"
   ]
  },
  {
   "cell_type": "code",
   "execution_count": null,
   "metadata": {
    "collapsed": true
   },
   "outputs": [],
   "source": []
  }
 ],
 "metadata": {
  "anaconda-cloud": {},
  "kernelspec": {
   "display_name": "R",
   "language": "R",
   "name": "ir"
  },
  "language_info": {
   "codemirror_mode": "r",
   "file_extension": ".r",
   "mimetype": "text/x-r-source",
   "name": "R",
   "pygments_lexer": "r",
   "version": "3.3.2"
  }
 },
 "nbformat": 4,
 "nbformat_minor": 1
}
